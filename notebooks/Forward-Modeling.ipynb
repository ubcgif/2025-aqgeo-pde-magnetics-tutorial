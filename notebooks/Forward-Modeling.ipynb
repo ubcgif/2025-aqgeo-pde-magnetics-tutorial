{
 "cells": [
  {
   "cell_type": "markdown",
   "id": "1ea777c073a70b3f",
   "metadata": {
    "ExecuteTime": {
     "end_time": "2025-10-21T16:50:22.454814Z",
     "start_time": "2025-10-21T16:50:22.450454Z"
    }
   },
   "source": [
    "# Forward Modeling for self-demagnetization and remanence"
   ]
  },
  {
   "cell_type": "markdown",
   "id": "2c043431b87a5e99",
   "metadata": {},
   "source": [
    "## Background\n",
    "\n",
    "The magnetic field $\\mathbf{B}$ is linear function of magnetization $\\mathbf{M}$\n",
    "\n",
    "$\\mathbf{M}$ is a function of the susceptibility $\\chi= \\frac{\\mu}{\\mu_0} -1$ and remanent magnetization $\\mathbf{M}_r$:\n",
    "\n",
    "$$\n",
    "\\mathbf{M}=\\chi(\\mathbf{H_0}+\\mathbf{H_s})+\\mathbf{M}_r\n",
    "$$\n",
    "\n",
    "where $\\mathbf{H_0}$ is the primary (background) geomagnetic field and $\\mathbf{H_s}$ is the secondary field\n",
    "\n",
    "Standard integral codes assume $\\mathbf{H_s}$ is negligible compared to $\\mathbf{H_0}$, so:\n",
    "$$\n",
    "\\mathbf{M}\\approx\\chi\\mathbf{H_0}+\\mathbf{M}_r\n",
    "$$\n",
    "\n",
    "\n"
   ]
  },
  {
   "cell_type": "markdown",
   "id": "29fb6b46e98d424c",
   "metadata": {},
   "source": [
    "## Differential Equation Approach\n",
    "\n",
    "To efficiently handle self-demagnetization and remanence, we can use Maxwell's equations in differential form:\n",
    "\n",
    "$$\n",
    "\\nabla \\cdot \\mathbf{B} = 0, \\quad \\mathbf{B} = \\mu_0 (\\mathbf{H} + \\mathbf{M}), \\quad \\mathbf{H} = -\\nabla \\phi\n",
    "$$\n",
    "\n",
    "using the full relation:\n",
    "\n",
    "$$\n",
    "\\mathbf{M}=\\chi(\\mathbf{H_0}+\\mathbf{H_s})+\\mathbf{M}_r\n",
    "$$\n",
    "\n",
    "After some algebra, we get the boundary value problem:\n",
    "\n",
    "$$\n",
    "\\nabla\\cdot\\mu\\nabla\\phi=\\nabla\\cdot\\mu_0\\mathbf{M}_r\n",
    "$$\n",
    "\n",
    "Where we enforce the boundary condition:\n",
    "\n",
    "$$\n",
    "\\mathbf{B} \\to \\mathbf{B}_0 \\quad \\text{as} \\quad |\\mathbf{r}| \\to \\infty\n",
    "$$\n",
    "\n",
    "\n",
    "\n",
    "\n"
   ]
  },
  {
   "cell_type": "markdown",
   "id": "2fdb94acefdace42",
   "metadata": {},
   "source": [
    "## Key points\n",
    "\n",
    "Unlike traditional integral formulations, the differential approach represents field variables everywhere in space.\n",
    "Therefore:\n",
    "\n",
    "1. **Field variables are continuous across the entire domain**\n",
    "   → We can compute and visualize $\\mathbf{B}$, $\\mu_0\\mathbf{H}$, and $\\mu_0\\mathbf{M}$ anywhere on the mesh.\n",
    "\n",
    "2. **We refine where we measure or care about the fields**\n",
    "   → For example, we can increase mesh resolution near receivers.\n",
    "   *(In integral codes, these points might not even lie inside mesh.)*\n",
    "\n",
    "3. **We must expand the mesh to satisfy boundary conditions**\n",
    "   → The computational domain should extend far enough that\n",
    "   $\\mathbf{B} \\to \\mathbf{B}_0$ at the outer boundary."
   ]
  },
  {
   "cell_type": "markdown",
   "id": "6c0842a8b4d5de8",
   "metadata": {
    "ExecuteTime": {
     "end_time": "2025-10-22T20:24:45.375502Z",
     "start_time": "2025-10-22T20:24:45.371571Z"
    }
   },
   "source": [
    "# SimPEG Simulation\n",
    "\n",
    "To create the simulation class with SimPEG we provide:\n",
    "\n",
    "1. **A survey**\n",
    "   → Contains receiver points, measured components, and ambient field information\n",
    "\n",
    "2. **The mesh**\n",
    "   → Here we use an Octree to efficiently satisfy boundary conditions\n",
    "\n",
    "3. **Mappings**\n",
    "   → Take our forward modeling model (a 1d vector) and populate physical properties throughout the mesh\n",
    "\n",
    "Once we have these, we can compute the **data** or **fields** for any model\n"
   ]
  },
  {
   "cell_type": "code",
   "execution_count": null,
   "id": "94599b81-3027-49ba-9e80-6d23e353c227",
   "metadata": {},
   "outputs": [],
   "source": [
    "import warnings\n",
    "warnings.filterwarnings('ignore')\n",
    "\n",
    "import simpeg.potential_fields.magnetics as mag\n",
    "from simpeg import utils,maps\n",
    "import numpy as np\n",
    "import matplotlib.pyplot as plt"
   ]
  },
  {
   "cell_type": "markdown",
   "id": "fb3243d0849db81e",
   "metadata": {},
   "source": [
    "# Defining a survey"
   ]
  },
  {
   "cell_type": "code",
   "execution_count": null,
   "id": "4db66086554aea02",
   "metadata": {
    "ExecuteTime": {
     "end_time": "2025-10-30T20:46:51.793716Z",
     "start_time": "2025-10-30T20:46:50.978381Z"
    }
   },
   "outputs": [],
   "source": [
    "#Define some synthetic survey points\n",
    "[xx, yy] = np.meshgrid(np.linspace(-400, 400, 41), np.linspace(-400, 400, 41))\n",
    "b = 150\n",
    "A = 30\n",
    "z_topo = A * np.exp(-0.5 * ((xx / b) ** 2.0 + (yy / b) ** 2.0))\n",
    "\n",
    "#Generate topo\n",
    "topo = np.c_[utils.mkvc(xx), utils.mkvc(yy), utils.mkvc(z_topo)]\n",
    "\n",
    "#Generate rx (10m above topo)\n",
    "z_rx = z_topo+10\n",
    "\n",
    "rx_points = np.c_[utils.mkvc(xx), utils.mkvc(yy), utils.mkvc(z_rx)]\n",
    "\n",
    "\n",
    "fig = plt.figure()\n",
    "ax = fig.add_subplot(111, projection='3d')\n",
    "ax.set_box_aspect([1, 1, .5])\n",
    "ax.scatter(xx,yy,z_rx, c='r',s=.4)\n",
    "ax.plot_surface(xx, yy, z_topo, cmap='viridis')\n"
   ]
  },
  {
   "cell_type": "code",
   "execution_count": null,
   "id": "4d14d1de45ebdef",
   "metadata": {
    "ExecuteTime": {
     "end_time": "2025-10-30T20:46:52.426369Z",
     "start_time": "2025-10-30T20:46:52.420882Z"
    }
   },
   "outputs": [],
   "source": [
    "# Define our simpeg survey\n",
    "\n",
    "#Define our reciever class, here TMI data only\n",
    "receivers = mag.receivers.Point(rx_points,components='tmi')\n",
    "\n",
    "#Define our source field\n",
    "amplitude, inclination, declination = 50000.0, 90.0, 0.0\n",
    "\n",
    "source_field = mag.sources.UniformBackgroundField(receiver_list=receivers, amplitude=amplitude, inclination=inclination, declination=declination)\n",
    "\n",
    "#Define our survey\n",
    "survey = mag.survey.Survey(source_field)\n"
   ]
  },
  {
   "cell_type": "markdown",
   "id": "c33e8ac9570fc3f1",
   "metadata": {},
   "source": [
    "# Defining the mesh\n",
    "\n",
    "We define the mesh based on our region of interest."
   ]
  },
  {
   "cell_type": "code",
   "execution_count": null,
   "id": "e7654a18527a931d",
   "metadata": {
    "ExecuteTime": {
     "end_time": "2025-10-30T20:47:25.451912Z",
     "start_time": "2025-10-30T20:47:23.974918Z"
    }
   },
   "outputs": [],
   "source": [
    "import discretize\n",
    "from discretize.utils import refine_tree_xyz\n",
    "pad = 20*800\n",
    "cell_size_x = 10\n",
    "cell_size_y = 10\n",
    "cell_size_z = 7.5\n",
    "\n",
    "#Ensure number of base cells in a power of 2 for Octree\n",
    "nbc_x= int(2**np.rint(np.log2(pad/cell_size_x)))\n",
    "nbc_y= int(2**np.rint(np.log2(pad/cell_size_y)))\n",
    "nbc_z= int(2**np.rint(np.log2(pad/cell_size_z)))\n",
    "\n",
    "\n",
    "hx = cell_size_x*np.ones(nbc_x)\n",
    "hy = cell_size_y*np.ones(nbc_y)\n",
    "hz = cell_size_z*np.ones(nbc_z)\n",
    "\n",
    "mesh = discretize.TreeMesh(h=[hx, hy, hz], origin=\"CCC\",diagonal_balance=True)\n",
    "mx_level=mesh.max_level\n",
    "\n",
    "mesh.refine_box(x0s=(-500, -500, -220), x1s=(500, 500, 30), levels=mx_level-1, finalize=False, diagonal_balance=True)\n",
    "mesh.refine_box(x0s=(-700, -700, -380), x1s=(700, 700, 70), levels=mx_level-2, finalize=False, diagonal_balance=True)\n",
    "mesh.refine_box(x0s=(-1000, -1000, -650), x1s=(1000, 1000, 80), levels=mx_level-3, finalize=False, diagonal_balance=True)\n",
    "mesh.refine_surface(xyz=rx_points,level=mx_level,padding_cells_by_level=[8,0],diagonal_balance=True)\n",
    "\n",
    "mesh.finalize()\n",
    "\n",
    "mesh\n"
   ]
  },
  {
   "cell_type": "code",
   "execution_count": null,
   "id": "271977cd8492f989",
   "metadata": {
    "ExecuteTime": {
     "end_time": "2025-10-30T20:47:26.627233Z",
     "start_time": "2025-10-30T20:47:26.489451Z"
    }
   },
   "outputs": [],
   "source": [
    "#Plot the full mesh\n",
    "mesh.plot_slice(np.zeros(mesh.n_cells),normal=\"x\",slice_loc=0,grid=True)\n",
    "plt.gca().set_aspect(\"equal\")\n",
    "plt.show()\n",
    "print('The mesh has '+ str(mesh.n_cells) +' cells')"
   ]
  },
  {
   "cell_type": "code",
   "execution_count": null,
   "id": "e29d6b790af99301",
   "metadata": {
    "ExecuteTime": {
     "end_time": "2025-10-30T20:47:29.631006Z",
     "start_time": "2025-10-30T20:47:29.518656Z"
    }
   },
   "outputs": [],
   "source": [
    "#plot zoomed in\n",
    "grid_opts = {\"linewidth\": 0.005, \"color\": \"k\"}\n",
    "\n",
    "mesh.plot_slice(mesh.cell_volumes, normal=\"x\", grid=True, grid_opts=grid_opts)\n",
    "plt.gca().set_aspect(\"equal\")\n",
    "plt.xlim(-1.5e3, 1.5e3)\n",
    "plt.ylim(-1.5e3, 100)\n",
    "plt.show()"
   ]
  },
  {
   "cell_type": "markdown",
   "id": "c547980c-5c02-46c7-9f27-aebaf00fdd2b",
   "metadata": {},
   "source": [
    "Now we define active region where we want to invert. We do this by octree level and using topography"
   ]
  },
  {
   "cell_type": "code",
   "execution_count": null,
   "id": "e2dd72e5-3cf3-4c1d-af6b-4f03428b5507",
   "metadata": {},
   "outputs": [],
   "source": [
    "#Define active indices under topo\n",
    "ind_active_topo = discretize.utils.active_from_xyz(mesh, topo)\n",
    "\n",
    "#Define active indices as top for octree levels\n",
    "cell_levels = mesh.cell_levels_by_index(np.arange(mesh.n_cells))\n",
    "ind_active_levels = np.zeros_like(ind_active_topo, dtype=bool)\n",
    "ind_active_levels[np.where(cell_levels>=8)]=True\n",
    "\n",
    "\n",
    "active_cells = ind_active_levels*ind_active_topo\n",
    "\n",
    "n_active = np.sum(active_cells)\n",
    "\n",
    "#array of booleans indicating active parameters\n",
    "print(active_cells)\n"
   ]
  },
  {
   "cell_type": "code",
   "execution_count": null,
   "id": "dac12ebc-7aaf-4af7-8dde-1de237be5f97",
   "metadata": {
    "ExecuteTime": {
     "end_time": "2025-10-30T20:47:58.035336Z",
     "start_time": "2025-10-30T20:47:57.939870Z"
    }
   },
   "outputs": [],
   "source": [
    "\n",
    "\n",
    "plotting_model = np.zeros(mesh.n_cells)\n",
    "\n",
    "#Use nan to not plot inactive cells\n",
    "plotting_model[~active_cells] = np.nan\n",
    "\n",
    "mesh.plot_slice(plotting_model, normal=\"x\", grid=True, )\n",
    "plt.gca().set_aspect(\"equal\")\n",
    "plt.xlim(-1.2e3, 1.2e3)\n",
    "plt.ylim(-1.0e3, 100)\n",
    "plt.show()\n",
    "\n",
    "print('The mesh has '+ str(n_active) +' active cells')"
   ]
  },
  {
   "cell_type": "markdown",
   "id": "56430aa8-1a5c-4868-b674-e48142f89626",
   "metadata": {},
   "source": [
    "# Mappings\n",
    "\n",
    "Next we can define **mappings**.\n",
    "\n",
    "These take our **model**, however it is defined, and provide the simulation with **physical properties**.\n",
    "\n",
    "While SimPEG mappings dont require a model at this stage, we create them first to show how mappings work\n",
    "\n",
    "Here, we define a geo_model array at active cells, where a 1 indicates our geologic unit and zero is our background"
   ]
  },
  {
   "cell_type": "code",
   "execution_count": null,
   "id": "72b9c578-7610-4669-97f1-b9a003c5d498",
   "metadata": {
    "ExecuteTime": {
     "end_time": "2025-10-30T20:48:00.914130Z",
     "start_time": "2025-10-30T20:48:00.874089Z"
    }
   },
   "outputs": [],
   "source": [
    "#Define a geologic model using a rectangular prism\n",
    "\n",
    "#center coordinates\n",
    "x0,y0,z0 = 0,0,-180\n",
    "\n",
    "#widths\n",
    "hx,hy,hz = 200,200,50\n",
    "\n",
    "#angles with respect to coordinate axes\n",
    "phi_x,phi_y,phi_z = -45, 0, 0\n",
    "from Utils.aqgeo_utils import get_ind_prism\n",
    "ind_prism = get_ind_prism(hx,hy,hz,phi_x,phi_y,phi_z,x0,y0,z0,mesh.cell_centers[active_cells,:])\n",
    "\n",
    "geo_model = np.zeros(n_active)\n",
    "\n",
    "geo_model[ind_prism] = 1\n",
    "\n",
    "print(geo_model.shape)"
   ]
  },
  {
   "cell_type": "markdown",
   "id": "6e62634f57aed8db",
   "metadata": {},
   "source": [
    "To plot the model, it must have the same dimensionality as the total .\n",
    "\n",
    "We use a **mapping** to achieve this.\n",
    "\n",
    "In SimPEG, * applies the mapping function $\\mathbf{f_{map}}$ to the model vector $\\mathbf{m}$:\n",
    "\n",
    "$map*m \\stackrel{\\mathrm{def}}{=} \\mathbf{f_{map}(m)}$\n",
    "\n",
    "We use the mapping InjectActiveCells to assign inactive cells a dummy value (nan), which SimPEG treats as transparent during plotting."
   ]
  },
  {
   "cell_type": "code",
   "execution_count": null,
   "id": "198d27a3-1a9e-4422-a1d8-142c550e2642",
   "metadata": {
    "ExecuteTime": {
     "end_time": "2025-10-30T20:48:03.662697Z",
     "start_time": "2025-10-30T20:48:03.552905Z"
    }
   },
   "outputs": [],
   "source": [
    "#Create the map\n",
    "plot_map = maps.InjectActiveCells(mesh, active_cells,np.nan)\n",
    "\n",
    "#Apply to geo model\n",
    "plot_model = plot_map*geo_model\n",
    "\n",
    "\n",
    "mesh.plot_slice(plot_model, normal=\"x\", grid=False, grid_opts=grid_opts,)\n",
    "plt.gca().set_aspect(\"equal\")\n",
    "plt.xlim(-600, 600)\n",
    "plt.ylim(-500, 100)\n",
    "plt.show()\n",
    "\n",
    "\n",
    "print(plot_model.shape)"
   ]
  },
  {
   "cell_type": "markdown",
   "id": "26e18cc51c111343",
   "metadata": {},
   "source": [
    "Next we define our physical properties throughout the active mesh\n",
    "\n",
    "We define our remanent magnetization $m_r$ in terms of normalized components:\n",
    "\n",
    "$m_{rx}=\\mathbf{M_{rx}}/|\\mathbf{H_0}|$\n",
    "\n",
    "This gives same units and order of magnitude as $m_\\chi$\n",
    "\n",
    "Here the values of the block are $\\chi=5$ SI, $\\vec{M}_{r}/|\\mathbf{H_0}| = (3,-3,0)$ SI"
   ]
  },
  {
   "cell_type": "code",
   "execution_count": null,
   "id": "5d250ce6da1e4559",
   "metadata": {
    "ExecuteTime": {
     "end_time": "2025-10-30T20:48:06.429533Z",
     "start_time": "2025-10-30T20:48:06.423492Z"
    }
   },
   "outputs": [],
   "source": [
    "m_chi = np.zeros(n_active)\n",
    "m_chi[ind_prism] = 5\n",
    "m_rx = np.zeros(n_active)\n",
    "m_rx[ind_prism] = 3\n",
    "m_ry = np.zeros(n_active)\n",
    "m_ry[ind_prism] = -3\n",
    "m_rz = np.zeros(n_active)\n",
    "m_rz[ind_prism] = 0\n",
    "\n",
    "model = np.r_[m_chi, m_rx, m_ry, m_rz]\n",
    "print(model.shape)\n",
    "\n"
   ]
  },
  {
   "cell_type": "markdown",
   "id": "39c467e63f971573",
   "metadata": {},
   "source": [
    "It is convenient to store everything as a 1d vector for inversion.\n",
    "\n",
    "However, our simulation class needs to know what part of the model is located where. To do this we use a **wire map**.\n",
    "\n",
    "We can compose maps through the * operation:\n",
    "\n",
    "$map_2*map_1*m = \\mathbf{f_{map_2}(f_{map_1}(m))}$"
   ]
  },
  {
   "cell_type": "code",
   "execution_count": null,
   "id": "f830dfb82c45f321",
   "metadata": {
    "ExecuteTime": {
     "end_time": "2025-10-30T20:48:13.457613Z",
     "start_time": "2025-10-30T20:48:13.101827Z"
    }
   },
   "outputs": [],
   "source": [
    "#Name of wire, followed by how many parameters, in the correct order\n",
    "wire_map = maps.Wires((\"m_chi\", n_active), (\"m_r\", n_active*3))\n",
    "\n",
    "#wire_map.m_chi picks out the susceptibility\n",
    "chi_plot = plot_map*wire_map.m_chi*model\n",
    "\n",
    "im=mesh.plot_slice(chi_plot, normal=\"x\", grid=False)\n",
    "plt.gca().set_aspect(\"equal\")\n",
    "cbar=plt.colorbar(im[0],shrink=.7)\n",
    "cbar.set_label(r'$\\chi$ (SI)',rotation=90,size=15)\n",
    "plt.xlim(-300, 300)\n",
    "plt.ylim(-350, 50)\n",
    "plt.show()"
   ]
  },
  {
   "cell_type": "markdown",
   "id": "fd836cba513fc49b",
   "metadata": {},
   "source": [
    "To plot the vector, the remanence needs to be reshaped..."
   ]
  },
  {
   "cell_type": "code",
   "execution_count": null,
   "id": "a1320018e90b3eff",
   "metadata": {
    "ExecuteTime": {
     "end_time": "2025-10-30T20:48:19.883453Z",
     "start_time": "2025-10-30T20:48:19.519792Z"
    }
   },
   "outputs": [],
   "source": [
    "mr_plot = plot_map*(wire_map.m_r*model).reshape((n_active,3),order='F')\n",
    "\n",
    "\n",
    "im=mesh.plot_slice(mr_plot, normal=\"x\", grid=False,view=\"vec\",v_type=\"CCv\",quiver_opts={\n",
    "                \"pivot\": \"mid\",\n",
    "                \"scale\": 20,\n",
    "                \"width\":.005,\n",
    "                \"scale_units\": \"inches\",\n",
    "            },)\n",
    "\n",
    "plt.gca().set_aspect(\"equal\")\n",
    "cbar=plt.colorbar(im[0][0],shrink=.7)\n",
    "cbar.set_label(r'$|\\vec{M}_r|/|\\vec{H}_0|$ (SI)',rotation=90,size=15)\n",
    "plt.xlim(-300, 300)\n",
    "plt.ylim(-350, 50)\n",
    "plt.show()\n"
   ]
  },
  {
   "cell_type": "markdown",
   "id": "1ec436e8e48b0415",
   "metadata": {},
   "source": [
    "Our simulation is based on the differential equation:\n",
    "\n",
    "$$\n",
    "\\nabla\\cdot\\mu\\nabla\\phi=\\nabla\\cdot\\mu_0\\mathbf{M}_r\n",
    "$$\n",
    "\n",
    "So physical properties are parameterized in terms of $\\mu$ (H/m) and $\\mu_0 M_r$ (n_T).\n",
    "\n",
    "We use **ChiMap** to convert $\\chi$ to $\\mu$ and **EffectiveSusceptibilityMap** to convert $\\frac{M_r}{|H_0|}$ to ${\\mu_0M_r}$\n",
    "\n",
    "Once again, these quantities are required throughout the mesh for the differential method"
   ]
  },
  {
   "cell_type": "code",
   "execution_count": null,
   "id": "c25cba21d4e5a8e7",
   "metadata": {
    "ExecuteTime": {
     "end_time": "2025-10-30T20:48:29.430700Z",
     "start_time": "2025-10-30T20:48:29.003792Z"
    }
   },
   "outputs": [],
   "source": [
    "from scipy.constants import mu_0\n",
    "\n",
    "#Create map to inject inactive cells with mu_0\n",
    "mu_0_injection = maps.InjectActiveCells(mesh, active_cells, mu_0 )\n",
    "chi_map = maps.ChiMap(nP=n_active)\n",
    "\n",
    "#create map to inject 0 for mu_0M_r\n",
    "rem_injection = maps.InjectActiveCells(mesh, np.hstack((active_cells, active_cells, active_cells)), 0,nC=mesh.n_cells*3 )\n",
    "EffectiveSusceptibilityMap = maps.EffectiveSusceptibilityMap(nP = n_active*3, ambient_field_magnitude = survey.source_field.amplitude)\n",
    "\n",
    "#Create the total maps for our simulatoin\n",
    "mu_map = mu_0_injection*chi_map*wire_map.m_chi\n",
    "rem_map = rem_injection*EffectiveSusceptibilityMap*wire_map.m_r\n",
    "\n",
    "\n",
    "im=mesh.plot_slice(mu_map*model, normal=\"x\", grid=False)\n",
    "plt.gca().set_aspect(\"equal\")\n",
    "cbar=plt.colorbar(im[0],shrink=.7)\n",
    "cbar.set_label(r'$\\mu$ (H/m)',rotation=90,size=15)\n",
    "plt.xlim(-300, 300)\n",
    "plt.ylim(-350, 50)\n",
    "plt.show()\n",
    "\n",
    "im=mesh.plot_slice((rem_map*model).reshape((-1,3),order='F'), normal=\"x\", grid=False,view=\"vec\",v_type=\"CCv\",quiver_opts={\n",
    "                \"pivot\": \"mid\",\n",
    "                \"scale\": 1100000,\n",
    "                \"width\":.005,\n",
    "                \"scale_units\": \"inches\",\n",
    "            },)\n",
    "\n",
    "plt.gca().set_aspect(\"equal\")\n",
    "cbar=plt.colorbar(im[0][0],shrink=.7)\n",
    "cbar.set_label(r'$\\mu_0|\\vec{M}_r|$ (nT)',rotation=90,size=15)\n",
    "plt.xlim(-300, 300)\n",
    "plt.ylim(-350, 50)\n",
    "plt.show()"
   ]
  },
  {
   "cell_type": "markdown",
   "id": "4e4a7d48aad7705c",
   "metadata": {},
   "source": [
    "# Defining and using a simulation"
   ]
  },
  {
   "cell_type": "code",
   "execution_count": null,
   "id": "4de72886-b290-4191-8d21-444cdceb819e",
   "metadata": {},
   "outputs": [],
   "source": [
    "#Grab a solver to solve for the fields\n",
    "\n",
    "from simpeg.utils import get_default_solver\n",
    "solver = get_default_solver()\n",
    "solver"
   ]
  },
  {
   "cell_type": "code",
   "execution_count": null,
   "id": "70d2d41af58b8694",
   "metadata": {
    "ExecuteTime": {
     "end_time": "2025-10-30T20:49:19.332252Z",
     "start_time": "2025-10-30T20:49:16.175505Z"
    }
   },
   "outputs": [],
   "source": [
    "simulation = mag.simulation.Simulation3DDifferential(\n",
    "    survey=survey,\n",
    "    mesh = mesh,\n",
    "    muMap=mu_map,\n",
    "    remMap=rem_map,\n",
    "    solver=solver,\n",
    ")\n",
    "\n",
    "#Compute the data for our model\n",
    "\n",
    "d_pred = simulation.dpred(model)\n",
    "\n",
    "#Plot up the data\n",
    "im=plt.tricontourf(rx_points[:,0],rx_points[:,1],d_pred,levels=30)\n",
    "plt.colorbar(label='nT')\n"
   ]
  },
  {
   "cell_type": "markdown",
   "id": "72793a44ec445ce8",
   "metadata": {},
   "source": [
    "We can also plot up the total magnetization, or to a scaling factor magnetic polarization $\\mu_0 \\mathbf{M}$.\n",
    "\n",
    "In finite volume, this computed quantity is computed on cell faces, so we average back to cell centers to plot\n",
    "\n",
    "We can compare this to the approximate solution, where the normalized total magnetization is $(3,-3,-5) (SI)$"
   ]
  },
  {
   "cell_type": "code",
   "execution_count": null,
   "id": "8f6304ad3a3e9954",
   "metadata": {
    "ExecuteTime": {
     "end_time": "2025-10-23T21:38:47.716701Z",
     "start_time": "2025-10-23T21:38:46.468534Z"
    }
   },
   "outputs": [],
   "source": [
    "mu0_M=simulation.magnetic_polarization(model)\n",
    "\n",
    "chi_eff = mu0_M/survey.source_field.amplitude\n",
    "\n",
    "chi_eff = mesh.average_face_to_cell_vector*chi_eff\n",
    "\n",
    "mu0_M_plot = mesh.average_face_to_cell_vector*mu0_M\n",
    "\n",
    "im=mesh.plot_slice((chi_eff).reshape((-1,3),order='F'), normal=\"x\",slice_loc=0, grid=False,view=\"vec\",v_type=\"CCv\",quiver_opts={\n",
    "                \"pivot\": \"mid\",\n",
    "                \"scale\": 10,\n",
    "                \"width\":.008,\n",
    "                \"scale_units\": \"inches\",\n",
    "            },)\n",
    "\n",
    "plt.gca().set_aspect(\"equal\")\n",
    "cbar=plt.colorbar(im[0][0],shrink=.7)\n",
    "cbar.set_label(r'$|\\vec{M}|/|\\vec{H}_0|$ (SI)',rotation=90,size=15)\n",
    "plt.xlim(-300, 300)\n",
    "plt.ylim(-350, 50)\n",
    "plt.show()\n",
    "\n",
    "m_x = np.zeros(n_active)\n",
    "m_x[ind_prism] = 3\n",
    "m_y = np.zeros(n_active)\n",
    "m_y[ind_prism] = -3\n",
    "m_z = np.zeros(n_active)\n",
    "m_z[ind_prism] = -5\n",
    "\n",
    "im=mesh.plot_slice(plot_map*np.c_[m_x,m_y,m_z], normal=\"x\",slice_loc=-0, grid=False,view=\"vec\",v_type=\"CCv\",quiver_opts={\n",
    "                \"pivot\": \"mid\",\n",
    "                \"scale\": 30,\n",
    "                \"width\":.008,\n",
    "                \"scale_units\": \"inches\",\n",
    "            },)\n",
    "\n",
    "plt.gca().set_aspect(\"equal\")\n",
    "cbar=plt.colorbar(im[0][0],shrink=.7)\n",
    "cbar.set_label(r'$|\\vec{M}|/|\\vec{H}_0|$ (SI)',rotation=90,size=15)\n",
    "plt.xlim(-300, 300)\n",
    "plt.ylim(-350, 50)\n",
    "plt.show()\n",
    "\n",
    "\n",
    "\n",
    "\n",
    "\n"
   ]
  },
  {
   "cell_type": "code",
   "execution_count": null,
   "id": "c951e4cd-c800-40b7-acf1-044f373bb700",
   "metadata": {},
   "outputs": [],
   "source": [
    "#plot difference in data\n",
    "linear_magnetization_model =np.r_[np.zeros(n_active),m_x,m_y,m_z]\n",
    "\n",
    "dpred_linear = simulation.dpred(linear_magnetization_model)\n",
    "\n",
    "im=plt.tricontourf(rx_points[:,0],rx_points[:,1],d_pred,levels=30)\n",
    "plt.title('Self-demagnetization')\n",
    "plt.colorbar(label='nT')\n",
    "plt.show()\n",
    "\n",
    "im=plt.tricontourf(rx_points[:,0],rx_points[:,1],dpred_linear,levels=30)\n",
    "plt.title('Linear approximation')\n",
    "plt.colorbar(label='nT')\n",
    "plt.show()\n",
    "\n",
    "im=plt.tricontourf(rx_points[:,0],rx_points[:,1],d_pred-dpred_linear,levels=30)\n",
    "plt.title('Differences')\n",
    "plt.colorbar(label='nT')\n",
    "plt.show()\n"
   ]
  },
  {
   "cell_type": "code",
   "execution_count": null,
   "id": "8f771c79-2020-4e65-a5f6-e8975482fb9c",
   "metadata": {},
   "outputs": [],
   "source": [
    "#Plot up the fields\n",
    "\n",
    "from matplotlib import colors\n",
    "\n",
    "\n",
    "im=mesh.plot_slice((mu0_M_plot).reshape((-1,3),order='F'), normal=\"x\",slice_loc=0, grid=False,view=\"vec\",v_type=\"CCv\",\n",
    "                pcolorOpts={'cmap':'jet','norm': colors.LogNorm(vmin=1e3, vmax=1e5)},\n",
    "                quiver_opts={\n",
    "                \"pivot\": \"mid\",\n",
    "                \"scale\": 300000,\n",
    "                \"width\":.002,\n",
    "                \"scale_units\": \"inches\",\n",
    "            },)\n",
    "\n",
    "plt.title(r'$\\mu_0\\vec{M}$')\n",
    "plt.gca().set_aspect(\"equal\")\n",
    "cbar=plt.colorbar(im[0][0],shrink=.7)\n",
    "cbar.set_label(r'nT',rotation=90,size=15)\n",
    "plt.xlim(-300, 300)\n",
    "plt.ylim(-350, 50)\n",
    "plt.show()\n",
    "\n",
    "bfield = mesh.average_face_to_cell_vector*simulation.fields(model)[\"b\"]\n",
    "\n",
    "im=mesh.plot_slice((bfield-mu0_M_plot).reshape((-1,3),order='F'), normal=\"x\",slice_loc=0, grid=False,view=\"vec\",v_type=\"CCv\",\n",
    "                pcolorOpts={'cmap':'jet','norm': colors.LogNorm(vmin=1e3, vmax=1e5)},\n",
    "                quiver_opts={\n",
    "                \"pivot\": \"mid\",\n",
    "                \"scale\": 200000,\n",
    "                \"width\":.002,\n",
    "                \"scale_units\": \"inches\",\n",
    "            },)\n",
    "\n",
    "plt.title(r'$\\mu_0\\vec{H}_s$')\n",
    "plt.gca().set_aspect(\"equal\")\n",
    "cbar=plt.colorbar(im[0][0],shrink=.7)\n",
    "cbar.set_label(r'nT',rotation=90,size=15)\n",
    "plt.xlim(-300, 300)\n",
    "plt.ylim(-350, 50)\n",
    "plt.show()\n",
    "\n",
    "\n",
    "\n",
    "\n",
    "im=mesh.plot_slice((bfield).reshape((-1,3),order='F'), normal=\"x\",slice_loc=0, grid=False,view=\"vec\",v_type=\"CCv\",\n",
    "                pcolorOpts={'cmap':'jet','norm': colors.LogNorm(vmin=1e3, vmax=1e5)},\n",
    "                quiver_opts={\n",
    "                \"pivot\": \"mid\",\n",
    "                \"scale\": 200000,\n",
    "                \"width\":.002,\n",
    "                \"scale_units\": \"inches\",\n",
    "            },)\n",
    "\n",
    "\n",
    "plt.title(r'$\\vec{B}_s$')\n",
    "plt.gca().set_aspect(\"equal\")\n",
    "cbar=plt.colorbar(im[0][0],shrink=.7)\n",
    "cbar.set_label(r'nT',rotation=90,size=15)\n",
    "plt.xlim(-300, 300)\n",
    "plt.ylim(-350, 50)\n",
    "plt.show()"
   ]
  },
  {
   "cell_type": "code",
   "execution_count": null,
   "id": "41a79096ac6138a9",
   "metadata": {
    "ExecuteTime": {
     "end_time": "2025-10-23T18:19:06.292984Z",
     "start_time": "2025-10-23T18:19:04.539153Z"
    }
   },
   "outputs": [],
   "source": []
  },
  {
   "cell_type": "code",
   "execution_count": null,
   "id": "70992d4957c7ce27",
   "metadata": {
    "ExecuteTime": {
     "end_time": "2025-10-23T18:19:06.364284Z",
     "start_time": "2025-10-23T18:19:06.362282Z"
    }
   },
   "outputs": [],
   "source": []
  }
 ],
 "metadata": {
  "kernelspec": {
   "display_name": "Python 3 (ipykernel)",
   "language": "python",
   "name": "python3"
  },
  "language_info": {
   "codemirror_mode": {
    "name": "ipython",
    "version": 3
   },
   "file_extension": ".py",
   "mimetype": "text/x-python",
   "name": "python",
   "nbconvert_exporter": "python",
   "pygments_lexer": "ipython3",
   "version": "3.13.9"
  }
 },
 "nbformat": 4,
 "nbformat_minor": 5
}
