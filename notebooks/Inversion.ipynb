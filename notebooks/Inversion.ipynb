{
 "cells": [
  {
   "cell_type": "markdown",
   "id": "3fa01fe7d207c67e",
   "metadata": {},
   "source": [
    "# Large Scale MVI"
   ]
  },
  {
   "cell_type": "code",
   "execution_count": null,
   "id": "901a07ab-3b85-4a4a-b02b-3df4499e8a87",
   "metadata": {},
   "outputs": [],
   "source": [
    "import warnings\n",
    "warnings.filterwarnings('ignore')"
   ]
  },
  {
   "cell_type": "code",
   "execution_count": null,
   "id": "6510cbd67430be51",
   "metadata": {
    "ExecuteTime": {
     "end_time": "2025-10-27T17:36:38.835874Z",
     "start_time": "2025-10-27T17:36:38.826990Z"
    }
   },
   "outputs": [],
   "source": [
    "import numpy as np\n",
    "import matplotlib.pyplot as plt\n",
    "from simpeg import utils\n",
    "from simpeg.potential_fields import magnetics as mag\n",
    "import pandas as pd"
   ]
  },
  {
   "cell_type": "markdown",
   "id": "ee0f22f6119d3623",
   "metadata": {},
   "source": [
    "## Read in Data\n",
    "\n",
    "Original Data From:\n",
    "\n",
    "Geophysical Acquisition & Processing Section, 2019 MIM Data from Mt Isa Inlier, QLD (P1029), magnetic line data, AWAGS levelled. Geoscience Australia, Canberra. https://pid.geoscience.gov.au/dataset/ga/142419\n",
    "\n"
   ]
  },
  {
   "cell_type": "code",
   "execution_count": null,
   "id": "c367e4bfa48f8355",
   "metadata": {
    "ExecuteTime": {
     "end_time": "2025-10-27T18:57:44.705590Z",
     "start_time": "2025-10-27T18:57:44.554868Z"
    }
   },
   "outputs": [],
   "source": [
    "df=pd.read_csv('Utils/QL_data.csv')\n",
    "\n",
    "df = df[(df['x'] < 1.4530e7) & (df['y'] < -2.315e6)]\n",
    "\n",
    "#Uncomment to run smaller problem\n",
    "#df = df[(df['x'] < 1.45275e7) & (df['y'] < -2.32e6)]\n",
    "\n",
    "df\n"
   ]
  },
  {
   "cell_type": "code",
   "execution_count": null,
   "id": "f4c803ca82270f6d",
   "metadata": {
    "ExecuteTime": {
     "end_time": "2025-10-27T18:57:45.411614Z",
     "start_time": "2025-10-27T18:57:45.400960Z"
    }
   },
   "outputs": [],
   "source": [
    "#Grab what we need as np.arrays\n",
    "\n",
    "rx_points = df.iloc[:,0:3].to_numpy()\n",
    "\n",
    "dobs = df.tmi.to_numpy()\n",
    "\n",
    "topo = df.iloc[:,[0,1,4]].to_numpy()"
   ]
  },
  {
   "cell_type": "code",
   "execution_count": null,
   "id": "55b77094edeb6651",
   "metadata": {
    "ExecuteTime": {
     "end_time": "2025-10-27T18:57:46.638664Z",
     "start_time": "2025-10-27T18:57:46.129238Z"
    }
   },
   "outputs": [],
   "source": [
    "#Plot up the data\n",
    "vmax = 500\n",
    "vmin = -vmax\n",
    "im=plt.tricontourf(df.x,df.y,df.tmi,cmap='jet',vmax=vmax,vmin=vmin,levels=500)\n",
    "plt.title('Observed')\n",
    "plt.gca().set_aspect('equal')\n",
    "plt.colorbar(im,label='TMI (nT)')\n",
    "\n",
    "#Define some values we will use later\n",
    "min_x = df.x.min()\n",
    "max_x = df.x.max()\n",
    "mean_x = df.x.mean()\n",
    "min_y = df.y.min()\n",
    "max_y = df.y.max()\n",
    "mean_y = df.y.mean()\n",
    "min_z = df.z.min()\n",
    "max_z = df.z.max()\n",
    "mean_z = df.z.mean()\n",
    "dist_x = max_x - min_x\n",
    "dist_y = max_y - min_y\n",
    "\n",
    "print(str(dist_x)+' meters in x direction')\n",
    "print(str(dist_y)+' meters in y direction')"
   ]
  },
  {
   "cell_type": "code",
   "execution_count": null,
   "id": "e649cab3fb17f6ee",
   "metadata": {
    "ExecuteTime": {
     "end_time": "2025-10-27T18:57:55.133642Z",
     "start_time": "2025-10-27T18:57:55.059863Z"
    }
   },
   "outputs": [],
   "source": [
    "#Subtract off a second order polynomial regional trend\n",
    "\n",
    "from sklearn.linear_model import LinearRegression\n",
    "from sklearn.preprocessing import PolynomialFeatures\n",
    "\n",
    "Xtrain = np.vstack((df.x-mean_x, df.y-mean_y)).T\n",
    "model = LinearRegression()\n",
    "poly = PolynomialFeatures(degree=2, include_bias=True)\n",
    "poly_features = poly.fit_transform(Xtrain)\n",
    "model.fit(poly_features, df.tmi)\n",
    "regional = model.predict(poly_features)\n",
    "\n",
    "dobs=df.tmi-regional"
   ]
  },
  {
   "cell_type": "code",
   "execution_count": null,
   "id": "8c31bfa6fec97f71",
   "metadata": {
    "ExecuteTime": {
     "end_time": "2025-10-27T18:58:08.504957Z",
     "start_time": "2025-10-27T18:58:07.954807Z"
    }
   },
   "outputs": [],
   "source": [
    "#Plot up the regional and obs-reg\n",
    "\n",
    "im=plt.tricontourf(df.x,df.y,regional,cmap='jet',levels=500)\n",
    "plt.title('Regional')\n",
    "plt.scatter(df.x,df.y,s=.005)\n",
    "plt.gca().set_aspect('equal')\n",
    "plt.colorbar(im,label='TMI (nT)')\n",
    "plt.show()\n",
    "\n",
    "vmax = 500\n",
    "vmin = -vmax\n",
    "im=plt.tricontourf(df.x,df.y,df.tmi,cmap='jet',vmax=vmax,vmin=vmin,levels=500)\n",
    "plt.title('Original')\n",
    "plt.scatter(df.x,df.y,s=.005)\n",
    "plt.gca().set_aspect('equal')\n",
    "plt.colorbar(im,label='TMI (nT)')\n",
    "plt.show()\n",
    "\n",
    "vmax = 500\n",
    "vmin = -vmax\n",
    "im=plt.tricontourf(df.x,df.y,dobs,cmap='jet',vmax=vmax,vmin=vmin,levels=500)\n",
    "plt.scatter(df.x,df.y,s=.005)\n",
    "plt.title('Observed-Regional')\n",
    "plt.gca().set_aspect('equal')\n",
    "plt.colorbar(im,label='TMI (nT)')\n",
    "plt.show()"
   ]
  },
  {
   "cell_type": "markdown",
   "id": "978187504682c40e",
   "metadata": {
    "ExecuteTime": {
     "end_time": "2025-10-23T22:32:48.430997Z",
     "start_time": "2025-10-23T22:32:48.427703Z"
    }
   },
   "source": [
    "## Create Survey Object"
   ]
  },
  {
   "cell_type": "code",
   "execution_count": null,
   "id": "148abbdc891fa938",
   "metadata": {
    "ExecuteTime": {
     "end_time": "2025-10-27T18:58:13.850951Z",
     "start_time": "2025-10-27T18:58:13.837874Z"
    }
   },
   "outputs": [],
   "source": [
    "\n",
    "receivers = mag.receivers.Point(rx_points,components='tmi')\n",
    "\n",
    "#Define our source field\n",
    "amplitude, inclination, declination = 51979.0, -53.17, 6.67\n",
    "\n",
    "source_field = mag.sources.UniformBackgroundField(receiver_list=receivers, amplitude=amplitude, inclination=inclination, declination=declination)\n",
    "\n",
    "#Define our survey\n",
    "survey = mag.survey.Survey(source_field)"
   ]
  },
  {
   "cell_type": "markdown",
   "id": "76d331d49824efab",
   "metadata": {
    "ExecuteTime": {
     "end_time": "2025-10-23T22:53:31.083017Z",
     "start_time": "2025-10-23T22:53:31.080595Z"
    }
   },
   "source": [
    "## Defining the mesh"
   ]
  },
  {
   "cell_type": "code",
   "execution_count": null,
   "id": "fda97e1e417a9d4",
   "metadata": {
    "ExecuteTime": {
     "end_time": "2025-10-27T20:26:36.841366Z",
     "start_time": "2025-10-27T20:26:33.841172Z"
    }
   },
   "outputs": [],
   "source": [
    "import discretize\n",
    "\n",
    "#Define cell size\n",
    "cell_size_x = 100\n",
    "cell_size_y = 100\n",
    "cell_size_z = 75\n",
    "\n",
    "#derive required number of padding cells\n",
    "pad =25*(dist_x+dist_y)/2\n",
    "\n",
    "nbc_x= int(2**np.rint(np.log2(pad/cell_size_x)))\n",
    "nbc_y= int(2**np.rint(np.log2(pad/cell_size_y)))\n",
    "nbc_z= int(2**np.rint(np.log2(pad/cell_size_z)))\n",
    "\n",
    "hx = cell_size_x*np.ones(nbc_x)\n",
    "hy = cell_size_y*np.ones(nbc_y)\n",
    "hz = cell_size_z*np.ones(nbc_z)\n",
    "\n",
    "#Define base mesh with zero cordinates in center (CCC)\n",
    "mesh = discretize.TreeMesh(h=[hx, hy, hz], origin=\"CCC\",diagonal_balance=True)\n",
    "\n",
    "#Shift origin to center at reciever points\n",
    "mesh.origin+=np.r_[mean_x,mean_y,mean_z]\n",
    "\n",
    "#Refine the mesh with 4 Octree layers starting at the recievers and working downward\n",
    "mesh.refine_surface(xyz=rx_points,level=-1,padding_cells_by_level=[8,8,8,6],pad_up=False,pad_down=True,finalize=False,diagonal_balance=True)\n",
    "mesh.refine_surface(xyz=rx_points,level=-1,padding_cells_by_level=[1,0],pad_up=True,pad_down=False,finalize=False,diagonal_balance=True)\n",
    "\n",
    "#Finalize our refinement\n",
    "mesh.finalize()\n",
    "\n",
    "mesh"
   ]
  },
  {
   "cell_type": "code",
   "execution_count": null,
   "id": "d42f7046dcc6b4e7",
   "metadata": {
    "ExecuteTime": {
     "end_time": "2025-10-27T20:26:38.191661Z",
     "start_time": "2025-10-27T20:26:37.898520Z"
    }
   },
   "outputs": [],
   "source": [
    "#Plot the entire mesh and around the core region\n",
    "\n",
    "mesh.plot_slice(np.zeros(mesh.n_cells),slice_loc=mean_y, normal=\"y\", grid=True, )\n",
    "plt.gca().set_aspect(\"equal\")\n",
    "plt.show()\n",
    "\n",
    "mesh.plot_slice(np.zeros(mesh.n_cells), normal=\"y\", grid=True, )\n",
    "plt.gca().set_aspect(\"equal\")\n",
    "plt.xlim(min_x-10000, max_x+10000)\n",
    "plt.ylim(min_z-12000, max_z+1000)\n",
    "plt.show()\n",
    "\n"
   ]
  },
  {
   "cell_type": "code",
   "execution_count": null,
   "id": "65715bee26602bb2",
   "metadata": {
    "ExecuteTime": {
     "end_time": "2025-10-27T20:26:40.869254Z",
     "start_time": "2025-10-27T20:26:40.716100Z"
    }
   },
   "outputs": [],
   "source": [
    "#Define our active cells\n",
    "\n",
    "mx_level=mesh.max_level\n",
    "\n",
    "#Define active indices under topo\n",
    "ind_active_topo = discretize.utils.active_from_xyz(mesh, topo)\n",
    "\n",
    "#Define active indices as top for octree levels\n",
    "cell_levels = mesh.cell_levels_by_index(np.arange(mesh.n_cells))\n",
    "ind_active_levels = np.zeros_like(ind_active_topo, dtype=bool)\n",
    "ind_active_levels[np.where(cell_levels>=9)]=True\n",
    "\n",
    "\n",
    "active_cells = ind_active_levels*ind_active_topo\n",
    "\n",
    "n_active = np.sum(active_cells)\n",
    "\n",
    "#array of booleans indicating active parameters\n",
    "print(active_cells)"
   ]
  },
  {
   "cell_type": "code",
   "execution_count": null,
   "id": "6792058cf7d55737",
   "metadata": {
    "ExecuteTime": {
     "end_time": "2025-10-27T20:26:41.798368Z",
     "start_time": "2025-10-27T20:26:41.675646Z"
    }
   },
   "outputs": [],
   "source": [
    "#Plot up the active region\n",
    "\n",
    "from simpeg import maps\n",
    "\n",
    "plotting_model = np.zeros(n_active)\n",
    "\n",
    "plotting_map = maps.InjectActiveCells(mesh, active_cells, np.nan,nC=mesh.n_cells )\n",
    "\n",
    "mesh.plot_slice(plotting_map*plotting_model, normal=\"y\",slice_loc=mean_y, grid=True, )\n",
    "plt.gca().set_aspect(\"equal\")\n",
    "plt.xlim(min_x-14000, max_x+14000)\n",
    "plt.ylim(min_z-14000, max_z+1000)\n",
    "plt.show()"
   ]
  },
  {
   "cell_type": "markdown",
   "id": "65e44a3457325936",
   "metadata": {},
   "source": [
    "# Defining the Simulation\n",
    "\n",
    "For MVI, we solve in terms of the **total magnetization** $\\mathbf{M}$.\n",
    "\n",
    "To do this, we can treat $\\mathbf{M}_r$ as $\\mathbf{M}$ and set $\\mu=\\mu_0$.\n",
    "\n",
    "The differential equation is:\n",
    "\n",
    "$$\n",
    "\\nabla\\cdot\\mu_0\\nabla\\phi=\\nabla\\cdot\\mu_0\\mathbf{M}\n",
    "$$\n",
    "\n",
    "We can perform this with the code by only passing a mapping for **rem**\n",
    "\n",
    "Because our left hand side doesnt change, the solver only needs to perform the factorization once. We can store these factorization is float32 dtype to improve efficiency\n"
   ]
  },
  {
   "cell_type": "code",
   "execution_count": null,
   "id": "13a0c768-e2b1-4f5e-a22b-0a484f49ed47",
   "metadata": {},
   "outputs": [],
   "source": [
    "from simpeg import maps\n",
    "import pymatsolver\n",
    "from simpeg.utils.solver_utils import get_default_solver\n",
    "solver = get_default_solver()"
   ]
  },
  {
   "cell_type": "code",
   "execution_count": null,
   "id": "b9333d5e882ddb7d",
   "metadata": {
    "ExecuteTime": {
     "end_time": "2025-10-27T20:29:30.156527Z",
     "start_time": "2025-10-27T20:29:28.901280Z"
    }
   },
   "outputs": [],
   "source": [
    "#Float32 will help improve storage/efficiency\n",
    "solver_dtype = np.float64 if solver is pymatsolver.Mumps else np.float32\n",
    "\n",
    "\n",
    "#Define the required mappings for the simulation\n",
    "rem_injection = maps.InjectActiveCells(mesh, np.hstack((active_cells, active_cells, active_cells)), 0,nC=mesh.n_cells*3 )\n",
    "EffectiveSusceptibilityMap = maps.EffectiveSusceptibilityMap(nP = n_active*3, ambient_field_magnitude = survey.source_field.amplitude)\n",
    "\n",
    "\n",
    "mvi_map = rem_injection*EffectiveSusceptibilityMap\n",
    "\n",
    "#Get the default solver for your system\n",
    "solver = get_default_solver()\n",
    "\n",
    "#Define the simulation\n",
    "simulation = mag.simulation.Simulation3DDifferential(\n",
    "    survey=survey,\n",
    "    mesh = mesh,\n",
    "    muMap=None,\n",
    "    remMap=mvi_map,\n",
    "    solver_dtype = solver_dtype,\n",
    "    solver = solver\n",
    ")"
   ]
  },
  {
   "cell_type": "code",
   "execution_count": null,
   "id": "537a8bcad3e84c91",
   "metadata": {
    "ExecuteTime": {
     "end_time": "2025-10-27T20:35:09.648827Z",
     "start_time": "2025-10-27T20:35:03.724270Z"
    }
   },
   "outputs": [],
   "source": [
    "#Check time for initial forward, storage required for factorization\n",
    "\n",
    "import psutil, os, time\n",
    "\n",
    "process = psutil.Process(os.getpid())\n",
    "\n",
    "mem_before = process.memory_info().rss / 1e6 \n",
    "t0 = time.perf_counter()\n",
    "\n",
    "model = np.random.randn(n_active*3)\n",
    "simulation.dpred(model)\n",
    "\n",
    "t1 = time.perf_counter()\n",
    "mem_after = process.memory_info().rss / 1e6\n",
    "\n",
    "\n",
    "print(f\"Memory used for factorization: {mem_after - mem_before:.2f} MB\")\n",
    "print(f\"Time for initial forward:  {t1 - t0:.3f} s\")"
   ]
  },
  {
   "cell_type": "code",
   "execution_count": null,
   "id": "4100f42f-ae25-4b1b-9e24-131a92d8f5e8",
   "metadata": {},
   "outputs": [],
   "source": [
    "#Check time for additional forward (needs new model to clear fields)\n",
    "\n",
    "t0 = time.perf_counter()\n",
    "\n",
    "model = np.random.randn(n_active*3)\n",
    "simulation.dpred(model)\n",
    "\n",
    "t1 = time.perf_counter()\n",
    "print(f\"Time for additional forward:  {t1 - t0:.3f} s\")"
   ]
  },
  {
   "cell_type": "markdown",
   "id": "979c4520-c739-4cee-961a-ee110ba29082",
   "metadata": {},
   "source": [
    "## Regularization"
   ]
  },
  {
   "cell_type": "code",
   "execution_count": null,
   "id": "79967dac2fa5a777",
   "metadata": {
    "ExecuteTime": {
     "end_time": "2025-10-27T17:38:53.852046Z",
     "start_time": "2025-10-27T17:38:52.960476Z"
    }
   },
   "outputs": [],
   "source": [
    "from simpeg import regularization\n",
    "\n",
    "regularization_map = maps.IdentityMap(nP=n_active*3)\n",
    "\n",
    "#Vector amplitude mitigates artifacts\n",
    "reg = regularization.VectorAmplitude(\n",
    "        mesh,\n",
    "        mapping=regularization_map,\n",
    "        active_cells=active_cells,\n",
    "        reference_model=np.zeros(n_active*3),\n",
    "        alpha_s=.1,\n",
    "        length_scale_x=1.0,\n",
    "        length_scale_y=1.0,\n",
    "        length_scale_z=1.0,\n",
    "    )\n",
    "\n",
    "#Norms for sparse inversion\n",
    "#Here we just run an L2 inversion\n",
    "#reg.norms = [1.0,1.0,1.0,1.0]\n",
    "reg.norms = [2.0,2.0,2.0,2.0]\n",
    "\n",
    "\n",
    "#Define weighting for regularization\n",
    "#Exponent of 3 for magnetic data\n",
    "exponent = 3\n",
    "\n",
    "#Distance weights\n",
    "distance_weights = utils.distance_weighting(mesh,survey.receiver_locations,active_cells=active_cells,exponent=exponent,)\n",
    "\n",
    "#Depth weights\n",
    "depth_weights = utils.depth_weighting(mesh,survey.receiver_locations,active_cells=active_cells,exponent=exponent,)\n",
    "\n",
    "#Set the weights in our regularization\n",
    "reg.set_weights(distance_weights=distance_weights+.01*depth_weights)"
   ]
  },
  {
   "cell_type": "markdown",
   "id": "d7df1097-8691-4b5b-ba2d-f6dc39745c1e",
   "metadata": {},
   "source": [
    "## Data misfit"
   ]
  },
  {
   "cell_type": "code",
   "execution_count": null,
   "id": "52bdac771489be75",
   "metadata": {
    "ExecuteTime": {
     "end_time": "2025-10-27T17:39:04.509381Z",
     "start_time": "2025-10-27T17:39:04.489288Z"
    }
   },
   "outputs": [],
   "source": [
    "from simpeg import data, data_misfit\n",
    "\n",
    "relative_error = 0.00\n",
    "noise_floor = .003 * np.max(np.abs(dobs))\n",
    "data_object = data.Data(survey, dobs = dobs, relative_error = relative_error, noise_floor = noise_floor)\n",
    "dmis = data_misfit.L2DataMisfit(data = data_object,simulation=simulation)\n",
    "\n"
   ]
  },
  {
   "cell_type": "markdown",
   "id": "149b8b9c-311b-45e6-ab7c-2cd1cdb82fcf",
   "metadata": {},
   "source": [
    "## Optimization\n",
    "\n",
    "In each inversion iteration we minimize $\\phi = \\phi_d+\\beta \\phi_m$ with Gauss Newton Conjugate Gradient\n",
    "\n",
    "Cool beta until $\\phi_d = \\phi_d^*$"
   ]
  },
  {
   "cell_type": "code",
   "execution_count": null,
   "id": "85336e2a-dcb5-4aeb-a2f2-c09d905597cb",
   "metadata": {},
   "outputs": [],
   "source": [
    "from simpeg import optimization\n",
    "\n",
    "#Define bounds of inversion\n",
    "lower_bounds = -np.inf\n",
    "upper_bounds = np.inf\n",
    "\n",
    "# lower_bounds = -np.ones(n_active*3)\n",
    "# upper_bounds = np.ones(n_active*3)\n",
    "\n",
    "#Define optimizaiton and cg parameters\n",
    "opt = optimization.ProjectedGNCG(\n",
    "    maxIter=20, lower=lower_bounds, upper=upper_bounds, maxIterLS=4, cg_maxiter=50, cg_rtol=.1\n",
    ")"
   ]
  },
  {
   "cell_type": "markdown",
   "id": "4856c7fc-a333-4dbf-b8b4-44793e50d175",
   "metadata": {},
   "source": [
    "## Directives"
   ]
  },
  {
   "cell_type": "code",
   "execution_count": null,
   "id": "b352f697-263c-4608-869a-da03676aec81",
   "metadata": {},
   "outputs": [],
   "source": [
    "from simpeg import directives\n",
    "\n",
    "#Estimate our initial beta value\n",
    "beta = directives.BetaEstimate_ByEig(beta0_ratio=10)"
   ]
  },
  {
   "cell_type": "code",
   "execution_count": null,
   "id": "45e0930b-3ae1-4e49-ac0a-5c1253d00a22",
   "metadata": {},
   "outputs": [],
   "source": [
    "#Custom preconditioner for our problem\n",
    "\n",
    "from simpeg.utils import eigenvalue_by_power_iteration\n",
    "from Utils.aqgeo_utils import UpdatePreconditioner\n",
    "\n",
    "start_model = np.zeros(n_active*3)+.0001\n",
    "\n",
    "dm_eigenvalue = eigenvalue_by_power_iteration(\n",
    "            dmis,\n",
    "            start_model,\n",
    "            n_pw_iter=5,\n",
    "        )\n",
    "\n",
    "\n",
    "jtj_approx = distance_weights*mesh.cell_volumes[active_cells]\n",
    "jtj_approx = jtj_approx/np.max(jtj_approx)\n",
    "jtj_approx*=dm_eigenvalue\n",
    "\n",
    "pc_solver = get_default_solver()\n",
    "update_jacobi = UpdatePreconditioner(solver=pc_solver,jtj_approx=np.tile(jtj_approx,3))\n",
    "\n"
   ]
  },
  {
   "cell_type": "code",
   "execution_count": null,
   "id": "c89dc818-220e-4a50-a4f0-99da6ef80f31",
   "metadata": {},
   "outputs": [],
   "source": [
    "#Sparse norm inversion\n",
    "#Cooling factor/cooling rate control beta cooling\n",
    "#Runs for max_irls_iterations once chifact_start has been reached (if set to zero, equivalent to l2 inversion)\n",
    "\n",
    "IRLS = directives.UpdateIRLS(max_irls_iterations=0, cooling_factor = 2,cooling_rate = 1,chifact_start=1,chifact_target=1,f_min_change = 1e-4)"
   ]
  },
  {
   "cell_type": "markdown",
   "id": "9bd8030a-fbd2-4ebf-8867-45cf3a043903",
   "metadata": {},
   "source": [
    "## Setup and run inversion"
   ]
  },
  {
   "cell_type": "code",
   "execution_count": null,
   "id": "2dfa067c161e45d0",
   "metadata": {
    "ExecuteTime": {
     "end_time": "2025-10-27T17:39:55.955305Z",
     "start_time": "2025-10-27T17:39:55.917944Z"
    }
   },
   "outputs": [],
   "source": [
    "from simpeg import inverse_problem,inversion\n",
    "\n",
    "directive_list = [\n",
    "    IRLS,\n",
    "    beta,\n",
    "    update_jacobi,\n",
    "]\n",
    "\n",
    "#We already have preconditioner, no init_bfgs\n",
    "inv_prob = inverse_problem.BaseInvProblem(\n",
    "    dmis, reg, opt, init_bfgs=False\n",
    ")\n",
    "\n",
    "inv = inversion.BaseInversion(\n",
    "        inv_prob, directiveList=directive_list\n",
    "    )\n",
    "\n"
   ]
  },
  {
   "cell_type": "code",
   "execution_count": null,
   "id": "7ec7c5027cd39adb",
   "metadata": {
    "ExecuteTime": {
     "end_time": "2025-10-27T17:39:57.007115Z",
     "start_time": "2025-10-27T17:39:57.003954Z"
    }
   },
   "outputs": [],
   "source": [
    "#Run the inversion\n",
    "t0 = time.perf_counter()\n",
    "\n",
    "recovered_model = inv.run(start_model)\n",
    "\n",
    "t1 = time.perf_counter()\n",
    "\n",
    "print(f\"Time for inversion:  {t1 - t0:.3f} s\")"
   ]
  },
  {
   "cell_type": "code",
   "execution_count": null,
   "id": "dadf1b4448a1887e",
   "metadata": {
    "ExecuteTime": {
     "end_time": "2025-10-27T17:54:46.312952Z",
     "start_time": "2025-10-27T17:54:46.311268Z"
    }
   },
   "outputs": [],
   "source": [
    "\n",
    "vmax = 500\n",
    "vmin = -vmax\n",
    "im=plt.tricontourf(df.x,df.y,dobs,cmap='jet',vmax=vmax,vmin=vmin,levels=500)\n",
    "plt.title('Observed Data')\n",
    "plt.gca().set_aspect('equal')\n",
    "plt.colorbar(im,label='TMI (nT)')\n",
    "plt.show()\n",
    "\n",
    "im=plt.tricontourf(df.x,df.y,simulation.dpred(recovered_model),cmap='jet',vmax=vmax,vmin=vmin,levels=500)\n",
    "plt.title('Predicted Data')\n",
    "plt.gca().set_aspect('equal')\n",
    "plt.colorbar(im,label='TMI (nT)')\n",
    "plt.show()\n",
    "\n",
    "resid=dmis.residual(recovered_model)\n",
    "\n",
    "vmax = 100\n",
    "vmin = -vmax\n",
    "im=plt.tricontourf(df.x,df.y,np.clip(resid,-100,100),cmap='jet',vmax=vmax,vmin=vmin,levels=500)\n",
    "plt.title('Residual')\n",
    "plt.gca().set_aspect('equal')\n",
    "plt.colorbar(im,label='TMI (nT)')\n",
    "plt.show()\n",
    "\n",
    "vmax = 10\n",
    "vmin = -vmax\n",
    "im=plt.tricontourf(df.x,df.y,np.clip(resid,-10,10),cmap='jet',vmax=vmax,vmin=vmin,levels=500)\n",
    "plt.title('Residual')\n",
    "plt.gca().set_aspect('equal')\n",
    "plt.colorbar(im,label='TMI (nT)')\n",
    "plt.show()\n"
   ]
  },
  {
   "cell_type": "code",
   "execution_count": null,
   "id": "d2dffb67b188a227",
   "metadata": {
    "ExecuteTime": {
     "end_time": "2025-10-27T17:54:47.096726Z",
     "start_time": "2025-10-27T17:54:46.770614Z"
    }
   },
   "outputs": [],
   "source": [
    "\n",
    "\n",
    "reshaped_model = recovered_model.reshape((-1,3),order='F')\n",
    "model_amp = np.linalg.norm(reshaped_model,axis=1)\n",
    "plotting_map = maps.InjectActiveCells(mesh, active_cells, np.nan,nC=mesh.n_cells )\n",
    "\n",
    "amp_plot = plotting_map*model_amp\n",
    "vec_plot = plotting_map*reshaped_model\n"
   ]
  },
  {
   "cell_type": "code",
   "execution_count": null,
   "id": "7f7ecd2a888e64a",
   "metadata": {
    "ExecuteTime": {
     "end_time": "2025-10-27T17:56:04.711097Z",
     "start_time": "2025-10-27T17:56:02.667842Z"
    }
   },
   "outputs": [],
   "source": [
    "#Plot some depth slices\n",
    "\n",
    "im=mesh.plot_slice(amp_plot, normal=\"z\",slice_loc=100, grid=False, pcolorOpts={'vmax':.01,'cmap':'jet'})\n",
    "plt.gca().set_aspect(\"equal\")\n",
    "plt.colorbar(im[0],label=r'$|\\vec{\\chi}_{eff}|$ (SI)')\n",
    "plt.xlim(min_x-3000, max_x+3000)\n",
    "plt.ylim(min_y-3000, max_y+3000)\n",
    "plt.show()\n",
    "\n",
    "im=mesh.plot_slice(amp_plot, normal=\"z\",slice_loc=-300, grid=False, pcolorOpts={'vmax':.01,'cmap':'jet'})\n",
    "plt.gca().set_aspect(\"equal\")\n",
    "plt.xlim(min_x-3000, max_x+3000)\n",
    "plt.ylim(min_y-3000, max_y+3000)\n",
    "plt.colorbar(im[0],label=r'$|\\vec{\\chi}_{eff}|$ (SI)')\n",
    "plt.show()\n",
    "\n",
    "im=mesh.plot_slice(amp_plot, normal=\"z\",slice_loc=-1000, grid=False, pcolorOpts={'vmax':.01,'cmap':'jet'})\n",
    "plt.gca().set_aspect(\"equal\")\n",
    "plt.xlim(min_x-3000, max_x+3000)\n",
    "plt.ylim(min_y-3000, max_y+3000)\n",
    "plt.colorbar(im[0],label=r'$|\\vec{\\chi}_{eff}|$ (SI)')\n",
    "plt.show()"
   ]
  },
  {
   "cell_type": "code",
   "execution_count": null,
   "id": "8493752faa17d41c",
   "metadata": {
    "ExecuteTime": {
     "end_time": "2025-10-27T17:56:10.122649Z",
     "start_time": "2025-10-27T17:56:09.360873Z"
    }
   },
   "outputs": [],
   "source": [
    "#Plot a cross section of amplitude\n",
    "\n",
    "im=mesh.plot_slice(amp_plot, normal=\"y\",slice_loc=-2330000, grid=False,pcolorOpts={'vmax':.01,'cmap':'jet'} )\n",
    "plt.gca().set_aspect(\"equal\")\n",
    "plt.xlim(mean_x-20000, mean_x+20000)\n",
    "plt.ylim(mean_z-10000, mean_z+1000)\n",
    "plt.colorbar(im[0],label=r'$|\\vec{\\chi}_{eff}|$ (SI)',shrink=.3)\n",
    "plt.show()"
   ]
  },
  {
   "cell_type": "code",
   "execution_count": null,
   "id": "35574c6e461884c8",
   "metadata": {
    "ExecuteTime": {
     "end_time": "2025-10-27T17:55:25.979369Z",
     "start_time": "2025-10-27T17:55:25.807967Z"
    }
   },
   "outputs": [],
   "source": [
    "#Plot vector field cross section\n",
    "\n",
    "im=mesh.plot_slice(vec_plot, normal=\"y\",slice_loc=-2330000, grid=False,pcolorOpts={'vmax':.01,'cmap':'jet'},view=\"vec\",v_type=\"CCv\",quiver_opts={\n",
    "                \"pivot\": \"mid\",\n",
    "                \"scale\": .1,\n",
    "                \"width\":.002,\n",
    "                \"scale_units\": \"inches\",\n",
    "            },)\n",
    "plt.gca().set_aspect(\"equal\")\n",
    "plt.xlim(mean_x-8000, mean_x+4000)\n",
    "plt.ylim(mean_z-5000, mean_z+200)\n",
    "plt.colorbar(im[0][0],label=r'$|\\vec{\\chi}_{eff}|$ (SI)',shrink=.5)\n",
    "plt.show()"
   ]
  },
  {
   "cell_type": "code",
   "execution_count": null,
   "id": "ba7f14f0-48b2-472a-953c-5f88bb9e1020",
   "metadata": {},
   "outputs": [],
   "source": [
    "im=mesh.plot_slice(vec_plot, normal=\"y\",slice_loc=-2330000, grid=False,pcolorOpts={'vmax':.01,'cmap':'jet'},view=\"vec\",v_type=\"CCv\",quiver_opts={\n",
    "                \"pivot\": \"mid\",\n",
    "                \"scale\": .1,\n",
    "                \"width\":.002,\n",
    "                \"scale_units\": \"inches\",\n",
    "            },)\n",
    "plt.gca().set_aspect(\"equal\")\n",
    "plt.xlim(mean_x-7500, mean_x-500)\n",
    "plt.ylim(mean_z-3000, mean_z+1000)\n",
    "plt.colorbar(im[0][0],label=r'$|\\vec{\\chi}_{eff}|$ (SI)',shrink=.7)\n",
    "plt.show()\n",
    "\n",
    "from matplotlib import colors\n",
    "bfield = simulation.fields(recovered_model)[\"b\"]\n",
    "\n",
    "bfield=mesh.average_face_to_cell_vector*bfield\n",
    "\n",
    "b_plot = bfield.reshape((-1,3),order='F')\n",
    "\n",
    "im=mesh.plot_slice(b_plot, normal=\"y\",slice_loc=-2330000, grid=False,\n",
    "                pcolorOpts={'cmap':'jet','norm': colors.LogNorm(vmin=5, vmax=1e3)},\n",
    "                view=\"vec\",v_type=\"CCv\",quiver_opts={\n",
    "                \"pivot\": \"mid\",\n",
    "                \"scale\": 1500,\n",
    "                \"width\":.002,\n",
    "                \"scale_units\": \"inches\",\n",
    "            },)\n",
    "plt.gca().set_aspect(\"equal\")\n",
    "plt.xlim(mean_x-7500, mean_x-500)\n",
    "plt.ylim(mean_z-3000, mean_z+1000)\n",
    "plt.colorbar(im[0][0],shrink=.7,label=r\"$|\\vec{b}_s|$ (nT)\")\n",
    "plt.show()"
   ]
  },
  {
   "cell_type": "code",
   "execution_count": null,
   "id": "1f5ef81f-b7b8-41d4-b23e-e60dbb63b289",
   "metadata": {},
   "outputs": [],
   "source": []
  },
  {
   "cell_type": "code",
   "execution_count": null,
   "id": "c76ef7c1-80e0-48b7-a1aa-1b0a89de7a79",
   "metadata": {},
   "outputs": [],
   "source": []
  }
 ],
 "metadata": {
  "kernelspec": {
   "display_name": "Python 3 (ipykernel)",
   "language": "python",
   "name": "python3"
  },
  "language_info": {
   "codemirror_mode": {
    "name": "ipython",
    "version": 3
   },
   "file_extension": ".py",
   "mimetype": "text/x-python",
   "name": "python",
   "nbconvert_exporter": "python",
   "pygments_lexer": "ipython3",
   "version": "3.13.9"
  }
 },
 "nbformat": 4,
 "nbformat_minor": 5
}
